{
  "nbformat": 4,
  "nbformat_minor": 0,
  "metadata": {
    "colab": {
      "provenance": [],
      "toc_visible": true,
      "mount_file_id": "1wcMcZ51ztggeGI-2Ao4FzuTK3wwW0UrV",
      "authorship_tag": "ABX9TyMjNDwjRfyvdKZ/2Ge05shU",
      "include_colab_link": true
    },
    "kernelspec": {
      "name": "python3",
      "display_name": "Python 3"
    },
    "language_info": {
      "name": "python"
    }
  },
  "cells": [
    {
      "cell_type": "markdown",
      "metadata": {
        "id": "view-in-github",
        "colab_type": "text"
      },
      "source": [
        "<a href=\"https://colab.research.google.com/github/caralinebruz/data_science_capstone_classification/blob/main/HistGradientBoost_rawdata.ipynb\" target=\"_parent\"><img src=\"https://colab.research.google.com/assets/colab-badge.svg\" alt=\"Open In Colab\"/></a>"
      ]
    },
    {
      "cell_type": "code",
      "execution_count": 350,
      "metadata": {
        "id": "EYQAVfBux8EZ"
      },
      "outputs": [],
      "source": [
        "import numpy as np\n",
        "import pandas as pd\n",
        "import matplotlib.pyplot as plt\n",
        "from PIL import Image\n",
        "%matplotlib inline\n",
        "import seaborn as sns\n",
        "\n",
        "\n",
        "from sklearn.decomposition import PCA\n",
        "from sklearn.cluster import KMeans as KMeans, DBSCAN as DBSCAN\n",
        "from sklearn.preprocessing import StandardScaler\n",
        "\n",
        "from sklearn.ensemble import HistGradientBoostingClassifier\n",
        "from sklearn.model_selection import train_test_split\n",
        "\n",
        "from sklearn.metrics import mean_squared_error, accuracy_score, confusion_matrix, ConfusionMatrixDisplay, precision_recall_curve, auc, roc_curve, classification_report\n",
        "from sklearn.experimental import enable_hist_gradient_boosting\n",
        "from sklearn.ensemble import HistGradientBoostingClassifier\n",
        "from sklearn.model_selection import cross_val_score\n",
        "\n",
        "\n",
        "from sklearn.pipeline import Pipeline\n",
        "sns.set()\n",
        "import warnings\n",
        "warnings.filterwarnings('ignore')"
      ]
    },
    {
      "cell_type": "code",
      "source": [
        "# lets import our data\n",
        "# /content/drive/MyDrive/data.csv\n",
        "df = pd.read_csv('/content/drive/MyDrive/data.csv')"
      ],
      "metadata": {
        "id": "iUQPxL0sybPy"
      },
      "execution_count": 351,
      "outputs": []
    },
    {
      "cell_type": "code",
      "source": [
        "# find the number of nan in the original dataset\n",
        "df.isna().sum().sum()\n",
        "# 4,914,430"
      ],
      "metadata": {
        "colab": {
          "base_uri": "https://localhost:8080/"
        },
        "id": "3U-lIzVt8t9d",
        "outputId": "0313790f-9ebd-490f-b29f-48ebbf507475"
      },
      "execution_count": 280,
      "outputs": [
        {
          "output_type": "execute_result",
          "data": {
            "text/plain": [
              "4914430"
            ]
          },
          "metadata": {},
          "execution_count": 280
        }
      ]
    },
    {
      "cell_type": "code",
      "source": [
        "df.size\n",
        "# 8,925,150"
      ],
      "metadata": {
        "colab": {
          "base_uri": "https://localhost:8080/"
        },
        "id": "gM5cukz087jf",
        "outputId": "734e9982-1047-45b3-c6da-9c0b8336bc64"
      },
      "execution_count": 166,
      "outputs": [
        {
          "output_type": "execute_result",
          "data": {
            "text/plain": [
              "8925150"
            ]
          },
          "metadata": {},
          "execution_count": 166
        }
      ]
    },
    {
      "cell_type": "code",
      "source": [
        "# so there are 4914430 / 8925150 * 100 missing values in the original dataframe\n",
        "print((df.isna().sum().sum()) / (df.size) * 100)\n",
        "\n",
        "# great! 55 percent of the values in the dataframe are NaN"
      ],
      "metadata": {
        "colab": {
          "base_uri": "https://localhost:8080/"
        },
        "id": "rP90ryKy9CRs",
        "outputId": "ef562698-a6a2-422d-9d65-8963dc116de0"
      },
      "execution_count": 148,
      "outputs": [
        {
          "output_type": "stream",
          "name": "stdout",
          "text": [
            "55.06271603278377\n"
          ]
        }
      ]
    },
    {
      "cell_type": "code",
      "source": [],
      "metadata": {
        "id": "osEhqKCRr-KT"
      },
      "execution_count": null,
      "outputs": []
    },
    {
      "cell_type": "markdown",
      "source": [
        "as there are 18,000 rows in the dataset with null value for GDP, rather than introduce bias by imputing the target (class) for each row, drop them\n",
        "\n"
      ],
      "metadata": {
        "id": "VJklxUGmr-57"
      }
    },
    {
      "cell_type": "code",
      "source": [
        "gdp_col = 'owid_gdp_per_capita'"
      ],
      "metadata": {
        "id": "ZcFZPzbasQcX"
      },
      "execution_count": 353,
      "outputs": []
    },
    {
      "cell_type": "code",
      "source": [
        "df = df[df[gdp_col].notna()]"
      ],
      "metadata": {
        "id": "PEcm0ML7r-M3"
      },
      "execution_count": 352,
      "outputs": []
    },
    {
      "cell_type": "code",
      "source": [
        "df # still huge im ok with it 46489 rows × 138 columns"
      ],
      "metadata": {
        "colab": {
          "base_uri": "https://localhost:8080/",
          "height": 661
        },
        "id": "K9D-pu-Er-O8",
        "outputId": "a204217a-44ca-40eb-c2f5-28f8af89b380"
      },
      "execution_count": 354,
      "outputs": [
        {
          "output_type": "execute_result",
          "data": {
            "text/plain": [
              "      iso_code   country        date  jhu_confirmed  jhu_deaths  \\\n",
              "72         ABW     Aruba  2020-03-13            NaN         NaN   \n",
              "78         ABW     Aruba  2020-03-19            NaN         NaN   \n",
              "79         ABW     Aruba  2020-03-20            NaN         NaN   \n",
              "80         ABW     Aruba  2020-03-21            NaN         NaN   \n",
              "81         ABW     Aruba  2020-03-22            NaN         NaN   \n",
              "...        ...       ...         ...            ...         ...   \n",
              "64670      ZWE  Zimbabwe  2020-10-26         8303.0       242.0   \n",
              "64671      ZWE  Zimbabwe  2020-10-27         8315.0       242.0   \n",
              "64672      ZWE  Zimbabwe  2020-10-28         8320.0       242.0   \n",
              "64673      ZWE  Zimbabwe  2020-10-29         8349.0       242.0   \n",
              "64674      ZWE  Zimbabwe  2020-10-30            NaN         NaN   \n",
              "\n",
              "       jhu_recovered  owid_total_cases  owid_new_cases  owid_total_deaths  \\\n",
              "72               NaN               2.0             2.0                NaN   \n",
              "78               NaN               NaN             NaN                NaN   \n",
              "79               NaN               4.0             2.0                NaN   \n",
              "80               NaN               NaN             NaN                NaN   \n",
              "81               NaN               NaN             NaN                NaN   \n",
              "...              ...               ...             ...                ...   \n",
              "64670         7797.0            8276.0             7.0              237.0   \n",
              "64671         7804.0            8303.0            27.0              242.0   \n",
              "64672         7845.0            8315.0            12.0              242.0   \n",
              "64673         7864.0            8320.0             5.0              242.0   \n",
              "64674            NaN            8349.0            29.0              242.0   \n",
              "\n",
              "       owid_new_deaths  ...  google_mobility_change_parks  \\\n",
              "72                 0.0  ...                          -4.0   \n",
              "78                 NaN  ...                         -41.0   \n",
              "79                 0.0  ...                         -41.0   \n",
              "80                 NaN  ...                         -52.0   \n",
              "81                 NaN  ...                         -52.0   \n",
              "...                ...  ...                           ...   \n",
              "64670              1.0  ...                           NaN   \n",
              "64671              5.0  ...                           NaN   \n",
              "64672              0.0  ...                           NaN   \n",
              "64673              0.0  ...                           NaN   \n",
              "64674              0.0  ...                           NaN   \n",
              "\n",
              "       google_mobility_change_transit_stations  \\\n",
              "72                                        -5.0   \n",
              "78                                       -40.0   \n",
              "79                                       -45.0   \n",
              "80                                       -54.0   \n",
              "81                                       -62.0   \n",
              "...                                        ...   \n",
              "64670                                      NaN   \n",
              "64671                                      NaN   \n",
              "64672                                      NaN   \n",
              "64673                                      NaN   \n",
              "64674                                      NaN   \n",
              "\n",
              "       google_mobility_change_retail_and_recreation  \\\n",
              "72                                            -10.0   \n",
              "78                                            -52.0   \n",
              "79                                            -53.0   \n",
              "80                                            -62.0   \n",
              "81                                            -70.0   \n",
              "...                                             ...   \n",
              "64670                                           NaN   \n",
              "64671                                           NaN   \n",
              "64672                                           NaN   \n",
              "64673                                           NaN   \n",
              "64674                                           NaN   \n",
              "\n",
              "       google_mobility_change_residential  google_mobility_change_workplaces  \\\n",
              "72                                    1.0                                3.0   \n",
              "78                                   21.0                              -40.0   \n",
              "79                                   22.0                              -41.0   \n",
              "80                                   21.0                              -40.0   \n",
              "81                                    NaN                              -46.0   \n",
              "...                                   ...                                ...   \n",
              "64670                                 NaN                                NaN   \n",
              "64671                                 NaN                                NaN   \n",
              "64672                                 NaN                                NaN   \n",
              "64673                                 NaN                                NaN   \n",
              "64674                                 NaN                                NaN   \n",
              "\n",
              "       sdsn_new_cases_per_million_smoothed  \\\n",
              "72                                     NaN   \n",
              "78                                     NaN   \n",
              "79                                     NaN   \n",
              "80                                     NaN   \n",
              "81                                     NaN   \n",
              "...                                    ...   \n",
              "64670                             1.273500   \n",
              "64671                             1.355214   \n",
              "64672                             1.340786   \n",
              "64673                             1.273500   \n",
              "64674                             1.316714   \n",
              "\n",
              "       sdsn_new_deaths_per_million_smoothed  \\\n",
              "72                                      NaN   \n",
              "78                                      NaN   \n",
              "79                                      NaN   \n",
              "80                                      NaN   \n",
              "81                                      NaN   \n",
              "...                                     ...   \n",
              "64670                              0.033571   \n",
              "64671                              0.057571   \n",
              "64672                              0.057571   \n",
              "64673                              0.052786   \n",
              "64674                              0.052786   \n",
              "\n",
              "       sdsn_effective_reproduction_rate_smoothed  \\\n",
              "72                                           NaN   \n",
              "78                                           NaN   \n",
              "79                                           NaN   \n",
              "80                                           NaN   \n",
              "81                                           NaN   \n",
              "...                                          ...   \n",
              "64670                                        NaN   \n",
              "64671                                        NaN   \n",
              "64672                                        NaN   \n",
              "64673                                        NaN   \n",
              "64674                                        NaN   \n",
              "\n",
              "       sdsn_positive_test_rate_smoothed  sdsn_overall_transmission  \n",
              "72                                  NaN                        NaN  \n",
              "78                                  NaN                        NaN  \n",
              "79                                  NaN                        NaN  \n",
              "80                                  NaN                        NaN  \n",
              "81                                  NaN                        NaN  \n",
              "...                                 ...                        ...  \n",
              "64670                             0.023                        1.0  \n",
              "64671                             0.025                        1.0  \n",
              "64672                             0.023                        1.0  \n",
              "64673                             0.023                        1.0  \n",
              "64674                             0.023                        1.0  \n",
              "\n",
              "[46489 rows x 138 columns]"
            ],
            "text/html": [
              "\n",
              "  <div id=\"df-d8cd825b-8a42-47c4-a40b-6019cc1e2be7\">\n",
              "    <div class=\"colab-df-container\">\n",
              "      <div>\n",
              "<style scoped>\n",
              "    .dataframe tbody tr th:only-of-type {\n",
              "        vertical-align: middle;\n",
              "    }\n",
              "\n",
              "    .dataframe tbody tr th {\n",
              "        vertical-align: top;\n",
              "    }\n",
              "\n",
              "    .dataframe thead th {\n",
              "        text-align: right;\n",
              "    }\n",
              "</style>\n",
              "<table border=\"1\" class=\"dataframe\">\n",
              "  <thead>\n",
              "    <tr style=\"text-align: right;\">\n",
              "      <th></th>\n",
              "      <th>iso_code</th>\n",
              "      <th>country</th>\n",
              "      <th>date</th>\n",
              "      <th>jhu_confirmed</th>\n",
              "      <th>jhu_deaths</th>\n",
              "      <th>jhu_recovered</th>\n",
              "      <th>owid_total_cases</th>\n",
              "      <th>owid_new_cases</th>\n",
              "      <th>owid_total_deaths</th>\n",
              "      <th>owid_new_deaths</th>\n",
              "      <th>...</th>\n",
              "      <th>google_mobility_change_parks</th>\n",
              "      <th>google_mobility_change_transit_stations</th>\n",
              "      <th>google_mobility_change_retail_and_recreation</th>\n",
              "      <th>google_mobility_change_residential</th>\n",
              "      <th>google_mobility_change_workplaces</th>\n",
              "      <th>sdsn_new_cases_per_million_smoothed</th>\n",
              "      <th>sdsn_new_deaths_per_million_smoothed</th>\n",
              "      <th>sdsn_effective_reproduction_rate_smoothed</th>\n",
              "      <th>sdsn_positive_test_rate_smoothed</th>\n",
              "      <th>sdsn_overall_transmission</th>\n",
              "    </tr>\n",
              "  </thead>\n",
              "  <tbody>\n",
              "    <tr>\n",
              "      <th>72</th>\n",
              "      <td>ABW</td>\n",
              "      <td>Aruba</td>\n",
              "      <td>2020-03-13</td>\n",
              "      <td>NaN</td>\n",
              "      <td>NaN</td>\n",
              "      <td>NaN</td>\n",
              "      <td>2.0</td>\n",
              "      <td>2.0</td>\n",
              "      <td>NaN</td>\n",
              "      <td>0.0</td>\n",
              "      <td>...</td>\n",
              "      <td>-4.0</td>\n",
              "      <td>-5.0</td>\n",
              "      <td>-10.0</td>\n",
              "      <td>1.0</td>\n",
              "      <td>3.0</td>\n",
              "      <td>NaN</td>\n",
              "      <td>NaN</td>\n",
              "      <td>NaN</td>\n",
              "      <td>NaN</td>\n",
              "      <td>NaN</td>\n",
              "    </tr>\n",
              "    <tr>\n",
              "      <th>78</th>\n",
              "      <td>ABW</td>\n",
              "      <td>Aruba</td>\n",
              "      <td>2020-03-19</td>\n",
              "      <td>NaN</td>\n",
              "      <td>NaN</td>\n",
              "      <td>NaN</td>\n",
              "      <td>NaN</td>\n",
              "      <td>NaN</td>\n",
              "      <td>NaN</td>\n",
              "      <td>NaN</td>\n",
              "      <td>...</td>\n",
              "      <td>-41.0</td>\n",
              "      <td>-40.0</td>\n",
              "      <td>-52.0</td>\n",
              "      <td>21.0</td>\n",
              "      <td>-40.0</td>\n",
              "      <td>NaN</td>\n",
              "      <td>NaN</td>\n",
              "      <td>NaN</td>\n",
              "      <td>NaN</td>\n",
              "      <td>NaN</td>\n",
              "    </tr>\n",
              "    <tr>\n",
              "      <th>79</th>\n",
              "      <td>ABW</td>\n",
              "      <td>Aruba</td>\n",
              "      <td>2020-03-20</td>\n",
              "      <td>NaN</td>\n",
              "      <td>NaN</td>\n",
              "      <td>NaN</td>\n",
              "      <td>4.0</td>\n",
              "      <td>2.0</td>\n",
              "      <td>NaN</td>\n",
              "      <td>0.0</td>\n",
              "      <td>...</td>\n",
              "      <td>-41.0</td>\n",
              "      <td>-45.0</td>\n",
              "      <td>-53.0</td>\n",
              "      <td>22.0</td>\n",
              "      <td>-41.0</td>\n",
              "      <td>NaN</td>\n",
              "      <td>NaN</td>\n",
              "      <td>NaN</td>\n",
              "      <td>NaN</td>\n",
              "      <td>NaN</td>\n",
              "    </tr>\n",
              "    <tr>\n",
              "      <th>80</th>\n",
              "      <td>ABW</td>\n",
              "      <td>Aruba</td>\n",
              "      <td>2020-03-21</td>\n",
              "      <td>NaN</td>\n",
              "      <td>NaN</td>\n",
              "      <td>NaN</td>\n",
              "      <td>NaN</td>\n",
              "      <td>NaN</td>\n",
              "      <td>NaN</td>\n",
              "      <td>NaN</td>\n",
              "      <td>...</td>\n",
              "      <td>-52.0</td>\n",
              "      <td>-54.0</td>\n",
              "      <td>-62.0</td>\n",
              "      <td>21.0</td>\n",
              "      <td>-40.0</td>\n",
              "      <td>NaN</td>\n",
              "      <td>NaN</td>\n",
              "      <td>NaN</td>\n",
              "      <td>NaN</td>\n",
              "      <td>NaN</td>\n",
              "    </tr>\n",
              "    <tr>\n",
              "      <th>81</th>\n",
              "      <td>ABW</td>\n",
              "      <td>Aruba</td>\n",
              "      <td>2020-03-22</td>\n",
              "      <td>NaN</td>\n",
              "      <td>NaN</td>\n",
              "      <td>NaN</td>\n",
              "      <td>NaN</td>\n",
              "      <td>NaN</td>\n",
              "      <td>NaN</td>\n",
              "      <td>NaN</td>\n",
              "      <td>...</td>\n",
              "      <td>-52.0</td>\n",
              "      <td>-62.0</td>\n",
              "      <td>-70.0</td>\n",
              "      <td>NaN</td>\n",
              "      <td>-46.0</td>\n",
              "      <td>NaN</td>\n",
              "      <td>NaN</td>\n",
              "      <td>NaN</td>\n",
              "      <td>NaN</td>\n",
              "      <td>NaN</td>\n",
              "    </tr>\n",
              "    <tr>\n",
              "      <th>...</th>\n",
              "      <td>...</td>\n",
              "      <td>...</td>\n",
              "      <td>...</td>\n",
              "      <td>...</td>\n",
              "      <td>...</td>\n",
              "      <td>...</td>\n",
              "      <td>...</td>\n",
              "      <td>...</td>\n",
              "      <td>...</td>\n",
              "      <td>...</td>\n",
              "      <td>...</td>\n",
              "      <td>...</td>\n",
              "      <td>...</td>\n",
              "      <td>...</td>\n",
              "      <td>...</td>\n",
              "      <td>...</td>\n",
              "      <td>...</td>\n",
              "      <td>...</td>\n",
              "      <td>...</td>\n",
              "      <td>...</td>\n",
              "      <td>...</td>\n",
              "    </tr>\n",
              "    <tr>\n",
              "      <th>64670</th>\n",
              "      <td>ZWE</td>\n",
              "      <td>Zimbabwe</td>\n",
              "      <td>2020-10-26</td>\n",
              "      <td>8303.0</td>\n",
              "      <td>242.0</td>\n",
              "      <td>7797.0</td>\n",
              "      <td>8276.0</td>\n",
              "      <td>7.0</td>\n",
              "      <td>237.0</td>\n",
              "      <td>1.0</td>\n",
              "      <td>...</td>\n",
              "      <td>NaN</td>\n",
              "      <td>NaN</td>\n",
              "      <td>NaN</td>\n",
              "      <td>NaN</td>\n",
              "      <td>NaN</td>\n",
              "      <td>1.273500</td>\n",
              "      <td>0.033571</td>\n",
              "      <td>NaN</td>\n",
              "      <td>0.023</td>\n",
              "      <td>1.0</td>\n",
              "    </tr>\n",
              "    <tr>\n",
              "      <th>64671</th>\n",
              "      <td>ZWE</td>\n",
              "      <td>Zimbabwe</td>\n",
              "      <td>2020-10-27</td>\n",
              "      <td>8315.0</td>\n",
              "      <td>242.0</td>\n",
              "      <td>7804.0</td>\n",
              "      <td>8303.0</td>\n",
              "      <td>27.0</td>\n",
              "      <td>242.0</td>\n",
              "      <td>5.0</td>\n",
              "      <td>...</td>\n",
              "      <td>NaN</td>\n",
              "      <td>NaN</td>\n",
              "      <td>NaN</td>\n",
              "      <td>NaN</td>\n",
              "      <td>NaN</td>\n",
              "      <td>1.355214</td>\n",
              "      <td>0.057571</td>\n",
              "      <td>NaN</td>\n",
              "      <td>0.025</td>\n",
              "      <td>1.0</td>\n",
              "    </tr>\n",
              "    <tr>\n",
              "      <th>64672</th>\n",
              "      <td>ZWE</td>\n",
              "      <td>Zimbabwe</td>\n",
              "      <td>2020-10-28</td>\n",
              "      <td>8320.0</td>\n",
              "      <td>242.0</td>\n",
              "      <td>7845.0</td>\n",
              "      <td>8315.0</td>\n",
              "      <td>12.0</td>\n",
              "      <td>242.0</td>\n",
              "      <td>0.0</td>\n",
              "      <td>...</td>\n",
              "      <td>NaN</td>\n",
              "      <td>NaN</td>\n",
              "      <td>NaN</td>\n",
              "      <td>NaN</td>\n",
              "      <td>NaN</td>\n",
              "      <td>1.340786</td>\n",
              "      <td>0.057571</td>\n",
              "      <td>NaN</td>\n",
              "      <td>0.023</td>\n",
              "      <td>1.0</td>\n",
              "    </tr>\n",
              "    <tr>\n",
              "      <th>64673</th>\n",
              "      <td>ZWE</td>\n",
              "      <td>Zimbabwe</td>\n",
              "      <td>2020-10-29</td>\n",
              "      <td>8349.0</td>\n",
              "      <td>242.0</td>\n",
              "      <td>7864.0</td>\n",
              "      <td>8320.0</td>\n",
              "      <td>5.0</td>\n",
              "      <td>242.0</td>\n",
              "      <td>0.0</td>\n",
              "      <td>...</td>\n",
              "      <td>NaN</td>\n",
              "      <td>NaN</td>\n",
              "      <td>NaN</td>\n",
              "      <td>NaN</td>\n",
              "      <td>NaN</td>\n",
              "      <td>1.273500</td>\n",
              "      <td>0.052786</td>\n",
              "      <td>NaN</td>\n",
              "      <td>0.023</td>\n",
              "      <td>1.0</td>\n",
              "    </tr>\n",
              "    <tr>\n",
              "      <th>64674</th>\n",
              "      <td>ZWE</td>\n",
              "      <td>Zimbabwe</td>\n",
              "      <td>2020-10-30</td>\n",
              "      <td>NaN</td>\n",
              "      <td>NaN</td>\n",
              "      <td>NaN</td>\n",
              "      <td>8349.0</td>\n",
              "      <td>29.0</td>\n",
              "      <td>242.0</td>\n",
              "      <td>0.0</td>\n",
              "      <td>...</td>\n",
              "      <td>NaN</td>\n",
              "      <td>NaN</td>\n",
              "      <td>NaN</td>\n",
              "      <td>NaN</td>\n",
              "      <td>NaN</td>\n",
              "      <td>1.316714</td>\n",
              "      <td>0.052786</td>\n",
              "      <td>NaN</td>\n",
              "      <td>0.023</td>\n",
              "      <td>1.0</td>\n",
              "    </tr>\n",
              "  </tbody>\n",
              "</table>\n",
              "<p>46489 rows × 138 columns</p>\n",
              "</div>\n",
              "      <button class=\"colab-df-convert\" onclick=\"convertToInteractive('df-d8cd825b-8a42-47c4-a40b-6019cc1e2be7')\"\n",
              "              title=\"Convert this dataframe to an interactive table.\"\n",
              "              style=\"display:none;\">\n",
              "        \n",
              "  <svg xmlns=\"http://www.w3.org/2000/svg\" height=\"24px\"viewBox=\"0 0 24 24\"\n",
              "       width=\"24px\">\n",
              "    <path d=\"M0 0h24v24H0V0z\" fill=\"none\"/>\n",
              "    <path d=\"M18.56 5.44l.94 2.06.94-2.06 2.06-.94-2.06-.94-.94-2.06-.94 2.06-2.06.94zm-11 1L8.5 8.5l.94-2.06 2.06-.94-2.06-.94L8.5 2.5l-.94 2.06-2.06.94zm10 10l.94 2.06.94-2.06 2.06-.94-2.06-.94-.94-2.06-.94 2.06-2.06.94z\"/><path d=\"M17.41 7.96l-1.37-1.37c-.4-.4-.92-.59-1.43-.59-.52 0-1.04.2-1.43.59L10.3 9.45l-7.72 7.72c-.78.78-.78 2.05 0 2.83L4 21.41c.39.39.9.59 1.41.59.51 0 1.02-.2 1.41-.59l7.78-7.78 2.81-2.81c.8-.78.8-2.07 0-2.86zM5.41 20L4 18.59l7.72-7.72 1.47 1.35L5.41 20z\"/>\n",
              "  </svg>\n",
              "      </button>\n",
              "      \n",
              "  <style>\n",
              "    .colab-df-container {\n",
              "      display:flex;\n",
              "      flex-wrap:wrap;\n",
              "      gap: 12px;\n",
              "    }\n",
              "\n",
              "    .colab-df-convert {\n",
              "      background-color: #E8F0FE;\n",
              "      border: none;\n",
              "      border-radius: 50%;\n",
              "      cursor: pointer;\n",
              "      display: none;\n",
              "      fill: #1967D2;\n",
              "      height: 32px;\n",
              "      padding: 0 0 0 0;\n",
              "      width: 32px;\n",
              "    }\n",
              "\n",
              "    .colab-df-convert:hover {\n",
              "      background-color: #E2EBFA;\n",
              "      box-shadow: 0px 1px 2px rgba(60, 64, 67, 0.3), 0px 1px 3px 1px rgba(60, 64, 67, 0.15);\n",
              "      fill: #174EA6;\n",
              "    }\n",
              "\n",
              "    [theme=dark] .colab-df-convert {\n",
              "      background-color: #3B4455;\n",
              "      fill: #D2E3FC;\n",
              "    }\n",
              "\n",
              "    [theme=dark] .colab-df-convert:hover {\n",
              "      background-color: #434B5C;\n",
              "      box-shadow: 0px 1px 3px 1px rgba(0, 0, 0, 0.15);\n",
              "      filter: drop-shadow(0px 1px 2px rgba(0, 0, 0, 0.3));\n",
              "      fill: #FFFFFF;\n",
              "    }\n",
              "  </style>\n",
              "\n",
              "      <script>\n",
              "        const buttonEl =\n",
              "          document.querySelector('#df-d8cd825b-8a42-47c4-a40b-6019cc1e2be7 button.colab-df-convert');\n",
              "        buttonEl.style.display =\n",
              "          google.colab.kernel.accessAllowed ? 'block' : 'none';\n",
              "\n",
              "        async function convertToInteractive(key) {\n",
              "          const element = document.querySelector('#df-d8cd825b-8a42-47c4-a40b-6019cc1e2be7');\n",
              "          const dataTable =\n",
              "            await google.colab.kernel.invokeFunction('convertToInteractive',\n",
              "                                                     [key], {});\n",
              "          if (!dataTable) return;\n",
              "\n",
              "          const docLinkHtml = 'Like what you see? Visit the ' +\n",
              "            '<a target=\"_blank\" href=https://colab.research.google.com/notebooks/data_table.ipynb>data table notebook</a>'\n",
              "            + ' to learn more about interactive tables.';\n",
              "          element.innerHTML = '';\n",
              "          dataTable['output_type'] = 'display_data';\n",
              "          await google.colab.output.renderOutput(dataTable, element);\n",
              "          const docLink = document.createElement('div');\n",
              "          docLink.innerHTML = docLinkHtml;\n",
              "          element.appendChild(docLink);\n",
              "        }\n",
              "      </script>\n",
              "    </div>\n",
              "  </div>\n",
              "  "
            ]
          },
          "metadata": {},
          "execution_count": 354
        }
      ]
    },
    {
      "cell_type": "markdown",
      "source": [
        "Create a high correlation filter on the dataset\n",
        "\n",
        "do not include the dependent variable (class)\n",
        "\n",
        "Generally, if the correlation between a pair of variables is greater than 0.5-0.6, we should seriously consider dropping one of those variables."
      ],
      "metadata": {
        "id": "Cst3i2jJz6Aj"
      }
    },
    {
      "cell_type": "code",
      "source": [
        "# df.corr()"
      ],
      "metadata": {
        "id": "F4y2cKxQykiC"
      },
      "execution_count": 237,
      "outputs": []
    },
    {
      "cell_type": "code",
      "source": [
        "# sns.set()\n",
        "# plt.rcParams[\"figure.figsize\"] = (35,35)\n",
        "# sns.heatmap(df.corr(), annot=True)\n",
        "# plt.show()"
      ],
      "metadata": {
        "id": "hCnDDIqV2rtB"
      },
      "execution_count": 170,
      "outputs": []
    },
    {
      "cell_type": "markdown",
      "source": [],
      "metadata": {
        "id": "kqaNQPvOz5Xe"
      }
    },
    {
      "cell_type": "code",
      "source": [
        "# Create correlation matrix\n",
        "corr_matrix = df.corr().abs()\n",
        "\n",
        "# Select upper triangle of correlation matrix\n",
        "upper = corr_matrix.where(np.triu(np.ones(corr_matrix.shape), k=1).astype(np.bool))\n"
      ],
      "metadata": {
        "id": "y8IYmeGQ2Zxw"
      },
      "execution_count": 355,
      "outputs": []
    },
    {
      "cell_type": "code",
      "source": [
        "# Find features with correlation greater than 0.95\n",
        "to_drop = [column for column in upper.columns if any(upper[column] > 0.8)]\n",
        "to_drop"
      ],
      "metadata": {
        "colab": {
          "base_uri": "https://localhost:8080/"
        },
        "id": "EhCxDnJv2cMc",
        "outputId": "2bd36b55-395a-4913-c7ff-6e6ab6c80ae6"
      },
      "execution_count": 356,
      "outputs": [
        {
          "output_type": "execute_result",
          "data": {
            "text/plain": [
              "['jhu_deaths',\n",
              " 'jhu_recovered',\n",
              " 'owid_total_cases',\n",
              " 'owid_new_cases',\n",
              " 'owid_total_deaths',\n",
              " 'owid_total_tests',\n",
              " 'owid_new_tests',\n",
              " 'owid_new_tests_smoothed',\n",
              " 'owid_new_tests_per_thousand',\n",
              " 'owid_new_tests_smoothed_per_thousand',\n",
              " 'owid_weekly_excess_mortality_p_score',\n",
              " 'owid_weekly_excess_mortality_p_score_75_84',\n",
              " 'owid_weekly_excess_mortality_p_score_85plus',\n",
              " 'owid_weekly_deaths_2019',\n",
              " 'owid_weekly_deaths_2018',\n",
              " 'owid_weekly_deaths_2017',\n",
              " 'owid_weekly_deaths_2016',\n",
              " 'owid_weekly_deaths_2015',\n",
              " 'owid_avg_weekly_deaths_2015_2019',\n",
              " 'owid_population',\n",
              " 'owid_aged_65_older',\n",
              " 'owid_aged_70_older',\n",
              " 'owid_life_expectancy',\n",
              " 'ox_c1_school_closing',\n",
              " 'ox_c2_workplace_closing',\n",
              " 'ox_c3_cancel_public_events',\n",
              " 'ox_c5_flag',\n",
              " 'ox_confirmed_cases',\n",
              " 'ox_confirmed_deaths',\n",
              " 'ox_stringency_index',\n",
              " 'ox_stringency_index_for_display',\n",
              " 'ox_stringency_legacy_index',\n",
              " 'ox_stringency_legacy_index_for_display',\n",
              " 'ox_government_response_index',\n",
              " 'ox_government_response_index_for_display',\n",
              " 'ox_containment_health_index',\n",
              " 'ox_containment_health_index_for_display',\n",
              " 'ox_economic_support_index',\n",
              " 'ox_economic_support_index_for_display',\n",
              " 'marioli_ci_65_u',\n",
              " 'marioli_ci_65_l',\n",
              " 'marioli_ci_95_u',\n",
              " 'marioli_ci_95_l',\n",
              " 'yougov_government_handling',\n",
              " 'yougov_wearing_mask_in_public',\n",
              " 'yougov_avoiding_raw_meat',\n",
              " 'yougov_support_stopping_flights_from_china',\n",
              " 'yougov_support_quarantine_flights_from_china',\n",
              " 'yougov_support_stopping_international_flights',\n",
              " 'yougov_support_quarantine_international_flights',\n",
              " 'yougov_support_quarantine_chinese_travellers',\n",
              " 'yougov_support_quarantine_any_person',\n",
              " 'yougov_support_quarantine_any_location',\n",
              " 'yougov_support_free_masks',\n",
              " 'yougov_support_work_from_home',\n",
              " 'yougov_support_temporarily_close_schools',\n",
              " 'yougov_support_cancel_large_events',\n",
              " 'yougov_support_cancel_hospital_routines',\n",
              " 'yougov_confidence_in_health_authorities',\n",
              " 'yougov_perceived_national_improvement',\n",
              " 'yougov_perceived_global_improvement',\n",
              " 'yougov_international_happiness',\n",
              " 'yougov_personal_health_fears',\n",
              " 'yougov_friends_and_family_health_fears',\n",
              " 'yougov_finances_fears',\n",
              " 'yougov_job_loss_fears',\n",
              " 'yougov_education_fears',\n",
              " 'yougov_social_impact_fears',\n",
              " 'google_mobility_change_retail_and_recreation',\n",
              " 'google_mobility_change_residential',\n",
              " 'sdsn_new_cases_per_million_smoothed',\n",
              " 'sdsn_effective_reproduction_rate_smoothed',\n",
              " 'sdsn_positive_test_rate_smoothed']"
            ]
          },
          "metadata": {},
          "execution_count": 356
        }
      ]
    },
    {
      "cell_type": "code",
      "source": [
        "len(to_drop)"
      ],
      "metadata": {
        "colab": {
          "base_uri": "https://localhost:8080/"
        },
        "id": "B2PxEho5tVg6",
        "outputId": "936e590f-7667-40cf-b4bb-d2c891a20845"
      },
      "execution_count": 319,
      "outputs": [
        {
          "output_type": "execute_result",
          "data": {
            "text/plain": [
              "89"
            ]
          },
          "metadata": {},
          "execution_count": 319
        }
      ]
    },
    {
      "cell_type": "code",
      "source": [
        "# Drop features \n",
        "df.drop(to_drop, axis=1, inplace=True)"
      ],
      "metadata": {
        "id": "Gfy0HIBy2jI9"
      },
      "execution_count": 357,
      "outputs": []
    },
    {
      "cell_type": "code",
      "source": [
        "df"
      ],
      "metadata": {
        "colab": {
          "base_uri": "https://localhost:8080/",
          "height": 661
        },
        "id": "eq8Q4P0W24jH",
        "outputId": "d30028ef-be99-43fe-fbab-7e2693a5b706"
      },
      "execution_count": 201,
      "outputs": [
        {
          "output_type": "execute_result",
          "data": {
            "text/plain": [
              "      iso_code   country        date  jhu_confirmed  owid_new_cases  \\\n",
              "72         ABW     Aruba  2020-03-13            NaN             2.0   \n",
              "78         ABW     Aruba  2020-03-19            NaN             NaN   \n",
              "79         ABW     Aruba  2020-03-20            NaN             2.0   \n",
              "80         ABW     Aruba  2020-03-21            NaN             NaN   \n",
              "81         ABW     Aruba  2020-03-22            NaN             NaN   \n",
              "...        ...       ...         ...            ...             ...   \n",
              "64670      ZWE  Zimbabwe  2020-10-26         8303.0             7.0   \n",
              "64671      ZWE  Zimbabwe  2020-10-27         8315.0            27.0   \n",
              "64672      ZWE  Zimbabwe  2020-10-28         8320.0            12.0   \n",
              "64673      ZWE  Zimbabwe  2020-10-29         8349.0             5.0   \n",
              "64674      ZWE  Zimbabwe  2020-10-30            NaN            29.0   \n",
              "\n",
              "       owid_new_deaths  owid_total_cases_per_million  \\\n",
              "72                 0.0                        18.733   \n",
              "78                 NaN                           NaN   \n",
              "79                 0.0                        37.465   \n",
              "80                 NaN                           NaN   \n",
              "81                 NaN                           NaN   \n",
              "...                ...                           ...   \n",
              "64670              1.0                       556.822   \n",
              "64671              5.0                       558.638   \n",
              "64672              0.0                       559.446   \n",
              "64673              0.0                       559.782   \n",
              "64674              0.0                       561.733   \n",
              "\n",
              "       owid_new_cases_per_million  owid_total_deaths_per_million  \\\n",
              "72                         18.733                            NaN   \n",
              "78                            NaN                            NaN   \n",
              "79                         18.733                            NaN   \n",
              "80                            NaN                            NaN   \n",
              "81                            NaN                            NaN   \n",
              "...                           ...                            ...   \n",
              "64670                       0.471                         15.946   \n",
              "64671                       1.817                         16.282   \n",
              "64672                       0.807                         16.282   \n",
              "64673                       0.336                         16.282   \n",
              "64674                       1.951                         16.282   \n",
              "\n",
              "       owid_new_deaths_per_million  ...  \\\n",
              "72                           0.000  ...   \n",
              "78                             NaN  ...   \n",
              "79                           0.000  ...   \n",
              "80                             NaN  ...   \n",
              "81                             NaN  ...   \n",
              "...                            ...  ...   \n",
              "64670                        0.067  ...   \n",
              "64671                        0.336  ...   \n",
              "64672                        0.000  ...   \n",
              "64673                        0.000  ...   \n",
              "64674                        0.000  ...   \n",
              "\n",
              "       yougov_support_stopping_international_flights  \\\n",
              "72                                               NaN   \n",
              "78                                               NaN   \n",
              "79                                               NaN   \n",
              "80                                               NaN   \n",
              "81                                               NaN   \n",
              "...                                              ...   \n",
              "64670                                            NaN   \n",
              "64671                                            NaN   \n",
              "64672                                            NaN   \n",
              "64673                                            NaN   \n",
              "64674                                            NaN   \n",
              "\n",
              "       yougov_support_quarantine_chinese_travellers  \\\n",
              "72                                              NaN   \n",
              "78                                              NaN   \n",
              "79                                              NaN   \n",
              "80                                              NaN   \n",
              "81                                              NaN   \n",
              "...                                             ...   \n",
              "64670                                           NaN   \n",
              "64671                                           NaN   \n",
              "64672                                           NaN   \n",
              "64673                                           NaN   \n",
              "64674                                           NaN   \n",
              "\n",
              "       yougov_confidence_in_health_authorities  \\\n",
              "72                                         NaN   \n",
              "78                                         NaN   \n",
              "79                                         NaN   \n",
              "80                                         NaN   \n",
              "81                                         NaN   \n",
              "...                                        ...   \n",
              "64670                                      NaN   \n",
              "64671                                      NaN   \n",
              "64672                                      NaN   \n",
              "64673                                      NaN   \n",
              "64674                                      NaN   \n",
              "\n",
              "       google_mobility_change_grocery_and_pharmacy  \\\n",
              "72                                            40.0   \n",
              "78                                            -5.0   \n",
              "79                                            -7.0   \n",
              "80                                           -19.0   \n",
              "81                                           -36.0   \n",
              "...                                            ...   \n",
              "64670                                          NaN   \n",
              "64671                                          NaN   \n",
              "64672                                          NaN   \n",
              "64673                                          NaN   \n",
              "64674                                          NaN   \n",
              "\n",
              "      google_mobility_change_parks  google_mobility_change_transit_stations  \\\n",
              "72                            -4.0                                     -5.0   \n",
              "78                           -41.0                                    -40.0   \n",
              "79                           -41.0                                    -45.0   \n",
              "80                           -52.0                                    -54.0   \n",
              "81                           -52.0                                    -62.0   \n",
              "...                            ...                                      ...   \n",
              "64670                          NaN                                      NaN   \n",
              "64671                          NaN                                      NaN   \n",
              "64672                          NaN                                      NaN   \n",
              "64673                          NaN                                      NaN   \n",
              "64674                          NaN                                      NaN   \n",
              "\n",
              "       google_mobility_change_residential  google_mobility_change_workplaces  \\\n",
              "72                                    1.0                                3.0   \n",
              "78                                   21.0                              -40.0   \n",
              "79                                   22.0                              -41.0   \n",
              "80                                   21.0                              -40.0   \n",
              "81                                    NaN                              -46.0   \n",
              "...                                   ...                                ...   \n",
              "64670                                 NaN                                NaN   \n",
              "64671                                 NaN                                NaN   \n",
              "64672                                 NaN                                NaN   \n",
              "64673                                 NaN                                NaN   \n",
              "64674                                 NaN                                NaN   \n",
              "\n",
              "       sdsn_new_deaths_per_million_smoothed  sdsn_overall_transmission  \n",
              "72                                      NaN                        NaN  \n",
              "78                                      NaN                        NaN  \n",
              "79                                      NaN                        NaN  \n",
              "80                                      NaN                        NaN  \n",
              "81                                      NaN                        NaN  \n",
              "...                                     ...                        ...  \n",
              "64670                              0.033571                        1.0  \n",
              "64671                              0.057571                        1.0  \n",
              "64672                              0.057571                        1.0  \n",
              "64673                              0.052786                        1.0  \n",
              "64674                              0.052786                        1.0  \n",
              "\n",
              "[46489 rows x 79 columns]"
            ],
            "text/html": [
              "\n",
              "  <div id=\"df-d47cf8ac-91f9-4ac2-9161-03058db5d0f1\">\n",
              "    <div class=\"colab-df-container\">\n",
              "      <div>\n",
              "<style scoped>\n",
              "    .dataframe tbody tr th:only-of-type {\n",
              "        vertical-align: middle;\n",
              "    }\n",
              "\n",
              "    .dataframe tbody tr th {\n",
              "        vertical-align: top;\n",
              "    }\n",
              "\n",
              "    .dataframe thead th {\n",
              "        text-align: right;\n",
              "    }\n",
              "</style>\n",
              "<table border=\"1\" class=\"dataframe\">\n",
              "  <thead>\n",
              "    <tr style=\"text-align: right;\">\n",
              "      <th></th>\n",
              "      <th>iso_code</th>\n",
              "      <th>country</th>\n",
              "      <th>date</th>\n",
              "      <th>jhu_confirmed</th>\n",
              "      <th>owid_new_cases</th>\n",
              "      <th>owid_new_deaths</th>\n",
              "      <th>owid_total_cases_per_million</th>\n",
              "      <th>owid_new_cases_per_million</th>\n",
              "      <th>owid_total_deaths_per_million</th>\n",
              "      <th>owid_new_deaths_per_million</th>\n",
              "      <th>...</th>\n",
              "      <th>yougov_support_stopping_international_flights</th>\n",
              "      <th>yougov_support_quarantine_chinese_travellers</th>\n",
              "      <th>yougov_confidence_in_health_authorities</th>\n",
              "      <th>google_mobility_change_grocery_and_pharmacy</th>\n",
              "      <th>google_mobility_change_parks</th>\n",
              "      <th>google_mobility_change_transit_stations</th>\n",
              "      <th>google_mobility_change_residential</th>\n",
              "      <th>google_mobility_change_workplaces</th>\n",
              "      <th>sdsn_new_deaths_per_million_smoothed</th>\n",
              "      <th>sdsn_overall_transmission</th>\n",
              "    </tr>\n",
              "  </thead>\n",
              "  <tbody>\n",
              "    <tr>\n",
              "      <th>72</th>\n",
              "      <td>ABW</td>\n",
              "      <td>Aruba</td>\n",
              "      <td>2020-03-13</td>\n",
              "      <td>NaN</td>\n",
              "      <td>2.0</td>\n",
              "      <td>0.0</td>\n",
              "      <td>18.733</td>\n",
              "      <td>18.733</td>\n",
              "      <td>NaN</td>\n",
              "      <td>0.000</td>\n",
              "      <td>...</td>\n",
              "      <td>NaN</td>\n",
              "      <td>NaN</td>\n",
              "      <td>NaN</td>\n",
              "      <td>40.0</td>\n",
              "      <td>-4.0</td>\n",
              "      <td>-5.0</td>\n",
              "      <td>1.0</td>\n",
              "      <td>3.0</td>\n",
              "      <td>NaN</td>\n",
              "      <td>NaN</td>\n",
              "    </tr>\n",
              "    <tr>\n",
              "      <th>78</th>\n",
              "      <td>ABW</td>\n",
              "      <td>Aruba</td>\n",
              "      <td>2020-03-19</td>\n",
              "      <td>NaN</td>\n",
              "      <td>NaN</td>\n",
              "      <td>NaN</td>\n",
              "      <td>NaN</td>\n",
              "      <td>NaN</td>\n",
              "      <td>NaN</td>\n",
              "      <td>NaN</td>\n",
              "      <td>...</td>\n",
              "      <td>NaN</td>\n",
              "      <td>NaN</td>\n",
              "      <td>NaN</td>\n",
              "      <td>-5.0</td>\n",
              "      <td>-41.0</td>\n",
              "      <td>-40.0</td>\n",
              "      <td>21.0</td>\n",
              "      <td>-40.0</td>\n",
              "      <td>NaN</td>\n",
              "      <td>NaN</td>\n",
              "    </tr>\n",
              "    <tr>\n",
              "      <th>79</th>\n",
              "      <td>ABW</td>\n",
              "      <td>Aruba</td>\n",
              "      <td>2020-03-20</td>\n",
              "      <td>NaN</td>\n",
              "      <td>2.0</td>\n",
              "      <td>0.0</td>\n",
              "      <td>37.465</td>\n",
              "      <td>18.733</td>\n",
              "      <td>NaN</td>\n",
              "      <td>0.000</td>\n",
              "      <td>...</td>\n",
              "      <td>NaN</td>\n",
              "      <td>NaN</td>\n",
              "      <td>NaN</td>\n",
              "      <td>-7.0</td>\n",
              "      <td>-41.0</td>\n",
              "      <td>-45.0</td>\n",
              "      <td>22.0</td>\n",
              "      <td>-41.0</td>\n",
              "      <td>NaN</td>\n",
              "      <td>NaN</td>\n",
              "    </tr>\n",
              "    <tr>\n",
              "      <th>80</th>\n",
              "      <td>ABW</td>\n",
              "      <td>Aruba</td>\n",
              "      <td>2020-03-21</td>\n",
              "      <td>NaN</td>\n",
              "      <td>NaN</td>\n",
              "      <td>NaN</td>\n",
              "      <td>NaN</td>\n",
              "      <td>NaN</td>\n",
              "      <td>NaN</td>\n",
              "      <td>NaN</td>\n",
              "      <td>...</td>\n",
              "      <td>NaN</td>\n",
              "      <td>NaN</td>\n",
              "      <td>NaN</td>\n",
              "      <td>-19.0</td>\n",
              "      <td>-52.0</td>\n",
              "      <td>-54.0</td>\n",
              "      <td>21.0</td>\n",
              "      <td>-40.0</td>\n",
              "      <td>NaN</td>\n",
              "      <td>NaN</td>\n",
              "    </tr>\n",
              "    <tr>\n",
              "      <th>81</th>\n",
              "      <td>ABW</td>\n",
              "      <td>Aruba</td>\n",
              "      <td>2020-03-22</td>\n",
              "      <td>NaN</td>\n",
              "      <td>NaN</td>\n",
              "      <td>NaN</td>\n",
              "      <td>NaN</td>\n",
              "      <td>NaN</td>\n",
              "      <td>NaN</td>\n",
              "      <td>NaN</td>\n",
              "      <td>...</td>\n",
              "      <td>NaN</td>\n",
              "      <td>NaN</td>\n",
              "      <td>NaN</td>\n",
              "      <td>-36.0</td>\n",
              "      <td>-52.0</td>\n",
              "      <td>-62.0</td>\n",
              "      <td>NaN</td>\n",
              "      <td>-46.0</td>\n",
              "      <td>NaN</td>\n",
              "      <td>NaN</td>\n",
              "    </tr>\n",
              "    <tr>\n",
              "      <th>...</th>\n",
              "      <td>...</td>\n",
              "      <td>...</td>\n",
              "      <td>...</td>\n",
              "      <td>...</td>\n",
              "      <td>...</td>\n",
              "      <td>...</td>\n",
              "      <td>...</td>\n",
              "      <td>...</td>\n",
              "      <td>...</td>\n",
              "      <td>...</td>\n",
              "      <td>...</td>\n",
              "      <td>...</td>\n",
              "      <td>...</td>\n",
              "      <td>...</td>\n",
              "      <td>...</td>\n",
              "      <td>...</td>\n",
              "      <td>...</td>\n",
              "      <td>...</td>\n",
              "      <td>...</td>\n",
              "      <td>...</td>\n",
              "      <td>...</td>\n",
              "    </tr>\n",
              "    <tr>\n",
              "      <th>64670</th>\n",
              "      <td>ZWE</td>\n",
              "      <td>Zimbabwe</td>\n",
              "      <td>2020-10-26</td>\n",
              "      <td>8303.0</td>\n",
              "      <td>7.0</td>\n",
              "      <td>1.0</td>\n",
              "      <td>556.822</td>\n",
              "      <td>0.471</td>\n",
              "      <td>15.946</td>\n",
              "      <td>0.067</td>\n",
              "      <td>...</td>\n",
              "      <td>NaN</td>\n",
              "      <td>NaN</td>\n",
              "      <td>NaN</td>\n",
              "      <td>NaN</td>\n",
              "      <td>NaN</td>\n",
              "      <td>NaN</td>\n",
              "      <td>NaN</td>\n",
              "      <td>NaN</td>\n",
              "      <td>0.033571</td>\n",
              "      <td>1.0</td>\n",
              "    </tr>\n",
              "    <tr>\n",
              "      <th>64671</th>\n",
              "      <td>ZWE</td>\n",
              "      <td>Zimbabwe</td>\n",
              "      <td>2020-10-27</td>\n",
              "      <td>8315.0</td>\n",
              "      <td>27.0</td>\n",
              "      <td>5.0</td>\n",
              "      <td>558.638</td>\n",
              "      <td>1.817</td>\n",
              "      <td>16.282</td>\n",
              "      <td>0.336</td>\n",
              "      <td>...</td>\n",
              "      <td>NaN</td>\n",
              "      <td>NaN</td>\n",
              "      <td>NaN</td>\n",
              "      <td>NaN</td>\n",
              "      <td>NaN</td>\n",
              "      <td>NaN</td>\n",
              "      <td>NaN</td>\n",
              "      <td>NaN</td>\n",
              "      <td>0.057571</td>\n",
              "      <td>1.0</td>\n",
              "    </tr>\n",
              "    <tr>\n",
              "      <th>64672</th>\n",
              "      <td>ZWE</td>\n",
              "      <td>Zimbabwe</td>\n",
              "      <td>2020-10-28</td>\n",
              "      <td>8320.0</td>\n",
              "      <td>12.0</td>\n",
              "      <td>0.0</td>\n",
              "      <td>559.446</td>\n",
              "      <td>0.807</td>\n",
              "      <td>16.282</td>\n",
              "      <td>0.000</td>\n",
              "      <td>...</td>\n",
              "      <td>NaN</td>\n",
              "      <td>NaN</td>\n",
              "      <td>NaN</td>\n",
              "      <td>NaN</td>\n",
              "      <td>NaN</td>\n",
              "      <td>NaN</td>\n",
              "      <td>NaN</td>\n",
              "      <td>NaN</td>\n",
              "      <td>0.057571</td>\n",
              "      <td>1.0</td>\n",
              "    </tr>\n",
              "    <tr>\n",
              "      <th>64673</th>\n",
              "      <td>ZWE</td>\n",
              "      <td>Zimbabwe</td>\n",
              "      <td>2020-10-29</td>\n",
              "      <td>8349.0</td>\n",
              "      <td>5.0</td>\n",
              "      <td>0.0</td>\n",
              "      <td>559.782</td>\n",
              "      <td>0.336</td>\n",
              "      <td>16.282</td>\n",
              "      <td>0.000</td>\n",
              "      <td>...</td>\n",
              "      <td>NaN</td>\n",
              "      <td>NaN</td>\n",
              "      <td>NaN</td>\n",
              "      <td>NaN</td>\n",
              "      <td>NaN</td>\n",
              "      <td>NaN</td>\n",
              "      <td>NaN</td>\n",
              "      <td>NaN</td>\n",
              "      <td>0.052786</td>\n",
              "      <td>1.0</td>\n",
              "    </tr>\n",
              "    <tr>\n",
              "      <th>64674</th>\n",
              "      <td>ZWE</td>\n",
              "      <td>Zimbabwe</td>\n",
              "      <td>2020-10-30</td>\n",
              "      <td>NaN</td>\n",
              "      <td>29.0</td>\n",
              "      <td>0.0</td>\n",
              "      <td>561.733</td>\n",
              "      <td>1.951</td>\n",
              "      <td>16.282</td>\n",
              "      <td>0.000</td>\n",
              "      <td>...</td>\n",
              "      <td>NaN</td>\n",
              "      <td>NaN</td>\n",
              "      <td>NaN</td>\n",
              "      <td>NaN</td>\n",
              "      <td>NaN</td>\n",
              "      <td>NaN</td>\n",
              "      <td>NaN</td>\n",
              "      <td>NaN</td>\n",
              "      <td>0.052786</td>\n",
              "      <td>1.0</td>\n",
              "    </tr>\n",
              "  </tbody>\n",
              "</table>\n",
              "<p>46489 rows × 79 columns</p>\n",
              "</div>\n",
              "      <button class=\"colab-df-convert\" onclick=\"convertToInteractive('df-d47cf8ac-91f9-4ac2-9161-03058db5d0f1')\"\n",
              "              title=\"Convert this dataframe to an interactive table.\"\n",
              "              style=\"display:none;\">\n",
              "        \n",
              "  <svg xmlns=\"http://www.w3.org/2000/svg\" height=\"24px\"viewBox=\"0 0 24 24\"\n",
              "       width=\"24px\">\n",
              "    <path d=\"M0 0h24v24H0V0z\" fill=\"none\"/>\n",
              "    <path d=\"M18.56 5.44l.94 2.06.94-2.06 2.06-.94-2.06-.94-.94-2.06-.94 2.06-2.06.94zm-11 1L8.5 8.5l.94-2.06 2.06-.94-2.06-.94L8.5 2.5l-.94 2.06-2.06.94zm10 10l.94 2.06.94-2.06 2.06-.94-2.06-.94-.94-2.06-.94 2.06-2.06.94z\"/><path d=\"M17.41 7.96l-1.37-1.37c-.4-.4-.92-.59-1.43-.59-.52 0-1.04.2-1.43.59L10.3 9.45l-7.72 7.72c-.78.78-.78 2.05 0 2.83L4 21.41c.39.39.9.59 1.41.59.51 0 1.02-.2 1.41-.59l7.78-7.78 2.81-2.81c.8-.78.8-2.07 0-2.86zM5.41 20L4 18.59l7.72-7.72 1.47 1.35L5.41 20z\"/>\n",
              "  </svg>\n",
              "      </button>\n",
              "      \n",
              "  <style>\n",
              "    .colab-df-container {\n",
              "      display:flex;\n",
              "      flex-wrap:wrap;\n",
              "      gap: 12px;\n",
              "    }\n",
              "\n",
              "    .colab-df-convert {\n",
              "      background-color: #E8F0FE;\n",
              "      border: none;\n",
              "      border-radius: 50%;\n",
              "      cursor: pointer;\n",
              "      display: none;\n",
              "      fill: #1967D2;\n",
              "      height: 32px;\n",
              "      padding: 0 0 0 0;\n",
              "      width: 32px;\n",
              "    }\n",
              "\n",
              "    .colab-df-convert:hover {\n",
              "      background-color: #E2EBFA;\n",
              "      box-shadow: 0px 1px 2px rgba(60, 64, 67, 0.3), 0px 1px 3px 1px rgba(60, 64, 67, 0.15);\n",
              "      fill: #174EA6;\n",
              "    }\n",
              "\n",
              "    [theme=dark] .colab-df-convert {\n",
              "      background-color: #3B4455;\n",
              "      fill: #D2E3FC;\n",
              "    }\n",
              "\n",
              "    [theme=dark] .colab-df-convert:hover {\n",
              "      background-color: #434B5C;\n",
              "      box-shadow: 0px 1px 3px 1px rgba(0, 0, 0, 0.15);\n",
              "      filter: drop-shadow(0px 1px 2px rgba(0, 0, 0, 0.3));\n",
              "      fill: #FFFFFF;\n",
              "    }\n",
              "  </style>\n",
              "\n",
              "      <script>\n",
              "        const buttonEl =\n",
              "          document.querySelector('#df-d47cf8ac-91f9-4ac2-9161-03058db5d0f1 button.colab-df-convert');\n",
              "        buttonEl.style.display =\n",
              "          google.colab.kernel.accessAllowed ? 'block' : 'none';\n",
              "\n",
              "        async function convertToInteractive(key) {\n",
              "          const element = document.querySelector('#df-d47cf8ac-91f9-4ac2-9161-03058db5d0f1');\n",
              "          const dataTable =\n",
              "            await google.colab.kernel.invokeFunction('convertToInteractive',\n",
              "                                                     [key], {});\n",
              "          if (!dataTable) return;\n",
              "\n",
              "          const docLinkHtml = 'Like what you see? Visit the ' +\n",
              "            '<a target=\"_blank\" href=https://colab.research.google.com/notebooks/data_table.ipynb>data table notebook</a>'\n",
              "            + ' to learn more about interactive tables.';\n",
              "          element.innerHTML = '';\n",
              "          dataTable['output_type'] = 'display_data';\n",
              "          await google.colab.output.renderOutput(dataTable, element);\n",
              "          const docLink = document.createElement('div');\n",
              "          docLink.innerHTML = docLinkHtml;\n",
              "          element.appendChild(docLink);\n",
              "        }\n",
              "      </script>\n",
              "    </div>\n",
              "  </div>\n",
              "  "
            ]
          },
          "metadata": {},
          "execution_count": 201
        }
      ]
    },
    {
      "cell_type": "code",
      "source": [
        "df.isnull().sum() * 100 / len(df)"
      ],
      "metadata": {
        "colab": {
          "base_uri": "https://localhost:8080/"
        },
        "id": "lCmVIjeB3w5Y",
        "outputId": "54aca369-4eb8-48e8-a074-c300d838b192"
      },
      "execution_count": 321,
      "outputs": [
        {
          "output_type": "execute_result",
          "data": {
            "text/plain": [
              "iso_code                                         0.000000\n",
              "country                                          0.000000\n",
              "date                                             0.000000\n",
              "jhu_confirmed                                    5.962701\n",
              "owid_total_cases_per_million                     7.485642\n",
              "owid_new_cases_per_million                       1.374519\n",
              "owid_total_deaths_per_million                   22.000903\n",
              "owid_new_deaths_per_million                      1.374519\n",
              "owid_total_tests_per_thousand                   57.314634\n",
              "owid_tests_per_case                             56.043365\n",
              "owid_positive_rate                              55.333520\n",
              "owid_tests_units                                50.310826\n",
              "owid_stringency_index                           10.221773\n",
              "owid_weekly_excess_mortality_p_score_0_14       97.732797\n",
              "owid_weekly_excess_mortality_p_score_15_64      97.728495\n",
              "owid_population_density                          0.447418\n",
              "owid_median_age                                  3.086752\n",
              "owid_gdp_per_capita                              0.000000\n",
              "owid_extreme_poverty                            33.711200\n",
              "owid_cardiovasc_death_rate                       2.733980\n",
              "owid_diabetes_prevalence                         0.509798\n",
              "owid_male_smokers                               22.811848\n",
              "owid_hospital_beds_per_thousand                 10.916561\n",
              "ox_c1_flag                                      29.482243\n",
              "ox_c2_flag                                      33.130418\n",
              "ox_c3_flag                                      27.473166\n",
              "ox_c4_flag                                      29.740369\n",
              "ox_c6_flag                                      43.079008\n",
              "ox_c7_flag                                      46.092624\n",
              "ox_c8_international_travel_controls             10.127127\n",
              "ox_e1_income_support                            10.297060\n",
              "ox_e1_flag                                      46.155004\n",
              "ox_e2_debt_or_contract_relief                   10.466992\n",
              "ox_e3_fiscal_measures                           10.585300\n",
              "ox_e4_international_support                     10.518617\n",
              "ox_h1_public_information_campaigns              10.172299\n",
              "ox_h1_flag                                      16.221042\n",
              "ox_h2_testing_policy                            10.346534\n",
              "ox_h3_contact_tracing                           10.292757\n",
              "ox_h4_emergency_investment_in_healthcare        10.677795\n",
              "ox_h5_investment_in_vaccines                    10.587451\n",
              "ox_m1_wildcard                                 100.000000\n",
              "marioli_effective_reproduction_rate             30.740605\n",
              "yougov_fear_of_catching                         98.599669\n",
              "yougov_avoiding_crowded_places                  99.051389\n",
              "yougov_avoiding_going_to_work                   99.055691\n",
              "yougov_stopping_sending_children                99.210566\n",
              "yougov_improving_personal_hygiene               99.006217\n",
              "google_mobility_change_grocery_and_pharmacy     33.904795\n",
              "dtype: float64"
            ]
          },
          "metadata": {},
          "execution_count": 321
        }
      ]
    },
    {
      "cell_type": "code",
      "source": [],
      "metadata": {
        "id": "36BTmkbhgEtT"
      },
      "execution_count": null,
      "outputs": []
    },
    {
      "cell_type": "markdown",
      "source": [
        "Let's try to just use Hist Gradient Boost Classifier first, \n",
        "\n",
        "Note the categorical features should be specified, and may be specified by index among others.\n",
        "gbdt = HistGradientBoostingClassifier(categorical_features=[0])"
      ],
      "metadata": {
        "id": "rj_iGtoagFjs"
      }
    },
    {
      "cell_type": "code",
      "source": [
        "# gbdt = HistGradientBoostingClassifier(categorical_features=[0,1,2])"
      ],
      "metadata": {
        "id": "p3QsHvM9gPue"
      },
      "execution_count": 84,
      "outputs": []
    },
    {
      "cell_type": "code",
      "source": [
        "df['owid_gdp_per_capita'].describe"
      ],
      "metadata": {
        "colab": {
          "base_uri": "https://localhost:8080/"
        },
        "id": "JOaKyAw5iAB3",
        "outputId": "c0ac956c-c72c-4437-a447-b6cd5aafee78"
      },
      "execution_count": 358,
      "outputs": [
        {
          "output_type": "execute_result",
          "data": {
            "text/plain": [
              "<bound method NDFrame.describe of 72       35973.781\n",
              "78       35973.781\n",
              "79       35973.781\n",
              "80       35973.781\n",
              "81       35973.781\n",
              "           ...    \n",
              "64670     1899.775\n",
              "64671     1899.775\n",
              "64672     1899.775\n",
              "64673     1899.775\n",
              "64674     1899.775\n",
              "Name: owid_gdp_per_capita, Length: 46489, dtype: float64>"
            ]
          },
          "metadata": {},
          "execution_count": 358
        }
      ]
    },
    {
      "cell_type": "code",
      "source": [
        "# make some classes\n",
        "# get the median of the dataframe\n",
        "# A = df['owid_gdp_per_capita'].quantile(q=0.2)\n",
        "# B = df['owid_gdp_per_capita'].quantile(q=0.4)\n",
        "# C = df['owid_gdp_per_capita'].quantile(q=0.6)\n",
        "# D = df['owid_gdp_per_capita'].quantile(q=0.8)\n",
        "\n",
        "A = df['owid_gdp_per_capita'].quantile(q=0.25)\n",
        "B = df['owid_gdp_per_capita'].quantile(q=0.5)\n",
        "C = df['owid_gdp_per_capita'].quantile(q=0.75)\n",
        "# D = df['owid_gdp_per_capita'].quantile(q=0.8)\n",
        "\n",
        "A, B, C#, D"
      ],
      "metadata": {
        "colab": {
          "base_uri": "https://localhost:8080/"
        },
        "id": "md0QgYodhEaB",
        "outputId": "bdb34c28-1847-4eb2-8026-2cc8ceb7a994"
      },
      "execution_count": 359,
      "outputs": [
        {
          "output_type": "execute_result",
          "data": {
            "text/plain": [
              "(5321.444, 14048.881, 31400.84)"
            ]
          },
          "metadata": {},
          "execution_count": 359
        }
      ]
    },
    {
      "cell_type": "code",
      "source": [
        "# assign class\n",
        "# make a new column with the median split, if the movie rating is lower, assign 0, else assign 1\n",
        "\n",
        "# base\n",
        "df['Y'] = 'Z'\n",
        "\n",
        "# if the column value is less than A, assign 'A'\n",
        "df.loc[df[gdp_col] <= A, 'Y'] = 'A'\n",
        "df.loc[( (df[gdp_col] > A) & (df[gdp_col] <= B) ), 'Y'] = 'B'\n",
        "df.loc[( (df[gdp_col] > B) & (df[gdp_col] <= C) ), 'Y'] = 'C'\n",
        "# df.loc[( (df[gdp_col] > C) & (df[gdp_col] <= D) ), 'Y'] = 'D'\n",
        "# df.loc[df[gdp_col] > D, 'Y'] = 'E'\n",
        "df.loc[df[gdp_col] > C, 'Y'] = 'D'"
      ],
      "metadata": {
        "id": "CZPncbXFi6V2"
      },
      "execution_count": 361,
      "outputs": []
    },
    {
      "cell_type": "code",
      "source": [
        "plt.rcParams[\"figure.figsize\"] = (10,10)\n",
        "sns.histplot(df['Y'], color=\"purple\")\n",
        "# plt.plot(random_classifier, random_classifier, 'r--')\n",
        "# plt.xlabel(\"FPR\")\n",
        "# plt.ylabel(\"TPR\")\n",
        "# plt.title(\"ROC Curve: %s\" % movie)\n",
        "plt.show()\n",
        "\n",
        "# looking pretty balanced now! great."
      ],
      "metadata": {
        "colab": {
          "base_uri": "https://localhost:8080/",
          "height": 611
        },
        "id": "dOChWXulxOAm",
        "outputId": "9a20e5b5-e324-46c9-8161-b68a516f96d3"
      },
      "execution_count": 362,
      "outputs": [
        {
          "output_type": "display_data",
          "data": {
            "text/plain": [
              "<Figure size 720x720 with 1 Axes>"
            ],
            "image/png": "[encoded data removed]"
          },
          "metadata": {}
        }
      ]
    },
    {
      "cell_type": "code",
      "source": [
        "# split into train/test\n",
        "df['Y'].describe()"
      ],
      "metadata": {
        "colab": {
          "base_uri": "https://localhost:8080/"
        },
        "id": "TIPivjSmgfib",
        "outputId": "212a7434-1e63-485a-f1ed-fd84ac23cc60"
      },
      "execution_count": 363,
      "outputs": [
        {
          "output_type": "execute_result",
          "data": {
            "text/plain": [
              "count     46489\n",
              "unique        4\n",
              "top           A\n",
              "freq      11739\n",
              "Name: Y, dtype: object"
            ]
          },
          "metadata": {},
          "execution_count": 363
        }
      ]
    },
    {
      "cell_type": "markdown",
      "source": [
        "Now that I assigned a new class variable, i can drop the previous numeric column (which could be used for regression, i suppose)"
      ],
      "metadata": {
        "id": "gL_GW3dt1DBh"
      }
    },
    {
      "cell_type": "code",
      "source": [
        "import random\n",
        "\n",
        "def make_split(M,pct):\n",
        "\n",
        "    print(\"picking %s percent of country codes\" % pct)\n",
        "    all_codes = df['iso_code'].unique().tolist()\n",
        "    total = float(len(all_codes))\n",
        "    \n",
        "    num_picked = round(pct * total)\n",
        "    print(\"must pick %s / %s = %s \" % (pct, total, num_picked))\n",
        "\n",
        "    test = random.sample(all_codes, k=num_picked) # sample works without replacement\n",
        "    test = sorted(test)\n",
        "    \n",
        "    print(\"test:\")\n",
        "    print(test)\n",
        "    test_df = M.loc[M['iso_code'].isin(test)]\n",
        "    # print(test_df)\n",
        "\n",
        "    s = set(test)\n",
        "    train = [x for x in all_codes if x not in s]\n",
        "\n",
        "    print(\"train:\")\n",
        "    print(train)\n",
        "    train_df = M.loc[M['iso_code'].isin(train)]\n",
        "    # print(train_df)\n",
        "    \n",
        "    return test_df, train_df"
      ],
      "metadata": {
        "id": "LUzbfU4m15sO"
      },
      "execution_count": 364,
      "outputs": []
    },
    {
      "cell_type": "code",
      "source": [
        "pct = 0.2\n",
        "test_df, train_df = make_split(df,pct)"
      ],
      "metadata": {
        "colab": {
          "base_uri": "https://localhost:8080/"
        },
        "id": "WKOLZeI92QTX",
        "outputId": "ae4f94b7-291a-4641-dfbb-78ed55daa58c"
      },
      "execution_count": 365,
      "outputs": [
        {
          "output_type": "stream",
          "name": "stdout",
          "text": [
            "picking 0.2 percent of country codes\n",
            "must pick 0.2 / 184.0 = 37 \n",
            "test:\n",
            "['ATG', 'AUS', 'BHR', 'BMU', 'BRN', 'CRI', 'DNK', 'EGY', 'ERI', 'EST', 'GIN', 'GNQ', 'GUY', 'HRV', 'HUN', 'ISL', 'ITA', 'JAM', 'KOR', 'LSO', 'MDA', 'MDV', 'MRT', 'MYS', 'NGA', 'PAN', 'POL', 'RUS', 'SLE', 'STP', 'SVK', 'SVN', 'SWE', 'TJK', 'UKR', 'UZB', 'VCT']\n",
            "train:\n",
            "['ABW', 'AFG', 'AGO', 'ALB', 'ARE', 'ARG', 'ARM', 'AUT', 'AZE', 'BDI', 'BEL', 'BEN', 'BFA', 'BGD', 'BGR', 'BHS', 'BIH', 'BLR', 'BLZ', 'BOL', 'BRA', 'BRB', 'BTN', 'BWA', 'CAF', 'CAN', 'CHE', 'CHL', 'CHN', 'CIV', 'CMR', 'COD', 'COG', 'COL', 'COM', 'CPV', 'CYM', 'CYP', 'CZE', 'DEU', 'DJI', 'DMA', 'DOM', 'DZA', 'ECU', 'ESP', 'ETH', 'FIN', 'FJI', 'FRA', 'GAB', 'GBR', 'GEO', 'GHA', 'GMB', 'GNB', 'GRC', 'GRD', 'GTM', 'HKG', 'HND', 'HTI', 'IDN', 'IND', 'IRL', 'IRN', 'IRQ', 'ISR', 'JOR', 'JPN', 'KAZ', 'KEN', 'KGZ', 'KHM', 'KNA', 'KWT', 'LAO', 'LBN', 'LBR', 'LBY', 'LCA', 'LKA', 'LTU', 'LUX', 'LVA', 'MAR', 'MDG', 'MEX', 'MHL', 'MKD', 'MLI', 'MLT', 'MMR', 'MNE', 'MNG', 'MOZ', 'MUS', 'MWI', 'NAM', 'NER', 'NIC', 'NLD', 'NOR', 'NPL', 'NZL', 'OMN', 'PAK', 'PER', 'PHL', 'PNG', 'PRI', 'PRT', 'PRY', 'PSE', 'QAT', 'ROU', 'RWA', 'SAU', 'SDN', 'SEN', 'SGP', 'SLB', 'SLV', 'SMR', 'SRB', 'SSD', 'SUR', 'SWZ', 'SXM', 'SYC', 'TCD', 'TGO', 'THA', 'TLS', 'TTO', 'TUN', 'TUR', 'TZA', 'UGA', 'URY', 'USA', 'VEN', 'VNM', 'YEM', 'ZAF', 'ZMB', 'ZWE']\n"
          ]
        }
      ]
    },
    {
      "cell_type": "code",
      "source": [
        "drop_cols = [gdp_col]\n",
        "# drop_cols = []\n",
        "drop_cols.extend(['date','iso_code','country','owid_tests_units'])\n",
        "\n",
        "# df.drop(drop_cols, axis=1, inplace=True)\n",
        "train_df.drop(drop_cols, axis=1, inplace=True)\n",
        "test_df.drop(drop_cols, axis=1, inplace=True)\n"
      ],
      "metadata": {
        "id": "Kp2p8iqL1IoX"
      },
      "execution_count": 366,
      "outputs": []
    },
    {
      "cell_type": "code",
      "source": [
        "# check that it worked\n",
        "train_df.columns.tolist()"
      ],
      "metadata": {
        "colab": {
          "base_uri": "https://localhost:8080/"
        },
        "id": "y9EVRgsN7iMO",
        "outputId": "5f7fc454-fe5f-4acf-ae42-78f2cbe4cbc7"
      },
      "execution_count": 367,
      "outputs": [
        {
          "output_type": "execute_result",
          "data": {
            "text/plain": [
              "['jhu_confirmed',\n",
              " 'owid_new_deaths',\n",
              " 'owid_total_cases_per_million',\n",
              " 'owid_new_cases_per_million',\n",
              " 'owid_total_deaths_per_million',\n",
              " 'owid_new_deaths_per_million',\n",
              " 'owid_total_tests_per_thousand',\n",
              " 'owid_tests_per_case',\n",
              " 'owid_positive_rate',\n",
              " 'owid_stringency_index',\n",
              " 'owid_weekly_excess_mortality_p_score_0_14',\n",
              " 'owid_weekly_excess_mortality_p_score_15_64',\n",
              " 'owid_weekly_excess_mortality_p_score_65_74',\n",
              " 'owid_weekly_deaths_2020',\n",
              " 'owid_population_density',\n",
              " 'owid_median_age',\n",
              " 'owid_extreme_poverty',\n",
              " 'owid_cardiovasc_death_rate',\n",
              " 'owid_diabetes_prevalence',\n",
              " 'owid_female_smokers',\n",
              " 'owid_male_smokers',\n",
              " 'owid_handwashing_facilities',\n",
              " 'owid_hospital_beds_per_thousand',\n",
              " 'ox_c1_flag',\n",
              " 'ox_c2_flag',\n",
              " 'ox_c3_flag',\n",
              " 'ox_c4_restrictions_on_gatherings',\n",
              " 'ox_c4_flag',\n",
              " 'ox_c5_close_public_transport',\n",
              " 'ox_c6_stay_at_home_requirements',\n",
              " 'ox_c6_flag',\n",
              " 'ox_c7_restrictions_on_internal_movement',\n",
              " 'ox_c7_flag',\n",
              " 'ox_c8_international_travel_controls',\n",
              " 'ox_e1_income_support',\n",
              " 'ox_e1_flag',\n",
              " 'ox_e2_debt_or_contract_relief',\n",
              " 'ox_e3_fiscal_measures',\n",
              " 'ox_e4_international_support',\n",
              " 'ox_h1_public_information_campaigns',\n",
              " 'ox_h1_flag',\n",
              " 'ox_h2_testing_policy',\n",
              " 'ox_h3_contact_tracing',\n",
              " 'ox_h4_emergency_investment_in_healthcare',\n",
              " 'ox_h5_investment_in_vaccines',\n",
              " 'ox_m1_wildcard',\n",
              " 'marioli_effective_reproduction_rate',\n",
              " 'yougov_fear_of_catching',\n",
              " 'yougov_avoiding_crowded_places',\n",
              " 'yougov_avoiding_going_to_work',\n",
              " 'yougov_stopping_sending_children',\n",
              " 'yougov_improving_personal_hygiene',\n",
              " 'yougov_refraining_from_touching_objects',\n",
              " 'yougov_avoiding_contact_with_tourists',\n",
              " 'google_mobility_change_grocery_and_pharmacy',\n",
              " 'google_mobility_change_parks',\n",
              " 'google_mobility_change_transit_stations',\n",
              " 'google_mobility_change_workplaces',\n",
              " 'sdsn_new_deaths_per_million_smoothed',\n",
              " 'sdsn_overall_transmission',\n",
              " 'Y']"
            ]
          },
          "metadata": {},
          "execution_count": 367
        }
      ]
    },
    {
      "cell_type": "code",
      "source": [
        "# now isolate the x and y values\n",
        "X_train = train_df.loc[:, train_df.columns != 'Y']\n",
        "Y_train = train_df['Y']\n",
        "\n",
        "X_test = test_df.loc[:, test_df.columns != 'Y']\n",
        "Y_test = test_df['Y']\n",
        "\n",
        "X_train.shape, X_test.shape"
      ],
      "metadata": {
        "colab": {
          "base_uri": "https://localhost:8080/"
        },
        "id": "G9l8zA5P2QcN",
        "outputId": "31eb7bf6-d7bf-4ea4-b233-245bbc439b9c"
      },
      "execution_count": 368,
      "outputs": [
        {
          "output_type": "execute_result",
          "data": {
            "text/plain": [
              "((37098, 60), (9391, 60))"
            ]
          },
          "metadata": {},
          "execution_count": 368
        }
      ]
    },
    {
      "cell_type": "code",
      "source": [
        "train_df.columns.tolist()"
      ],
      "metadata": {
        "colab": {
          "base_uri": "https://localhost:8080/"
        },
        "id": "oCyhDPac5BJH",
        "outputId": "b05bdc40-fb73-42f1-a68c-9d03233aefe5"
      },
      "execution_count": 369,
      "outputs": [
        {
          "output_type": "execute_result",
          "data": {
            "text/plain": [
              "['jhu_confirmed',\n",
              " 'owid_new_deaths',\n",
              " 'owid_total_cases_per_million',\n",
              " 'owid_new_cases_per_million',\n",
              " 'owid_total_deaths_per_million',\n",
              " 'owid_new_deaths_per_million',\n",
              " 'owid_total_tests_per_thousand',\n",
              " 'owid_tests_per_case',\n",
              " 'owid_positive_rate',\n",
              " 'owid_stringency_index',\n",
              " 'owid_weekly_excess_mortality_p_score_0_14',\n",
              " 'owid_weekly_excess_mortality_p_score_15_64',\n",
              " 'owid_weekly_excess_mortality_p_score_65_74',\n",
              " 'owid_weekly_deaths_2020',\n",
              " 'owid_population_density',\n",
              " 'owid_median_age',\n",
              " 'owid_extreme_poverty',\n",
              " 'owid_cardiovasc_death_rate',\n",
              " 'owid_diabetes_prevalence',\n",
              " 'owid_female_smokers',\n",
              " 'owid_male_smokers',\n",
              " 'owid_handwashing_facilities',\n",
              " 'owid_hospital_beds_per_thousand',\n",
              " 'ox_c1_flag',\n",
              " 'ox_c2_flag',\n",
              " 'ox_c3_flag',\n",
              " 'ox_c4_restrictions_on_gatherings',\n",
              " 'ox_c4_flag',\n",
              " 'ox_c5_close_public_transport',\n",
              " 'ox_c6_stay_at_home_requirements',\n",
              " 'ox_c6_flag',\n",
              " 'ox_c7_restrictions_on_internal_movement',\n",
              " 'ox_c7_flag',\n",
              " 'ox_c8_international_travel_controls',\n",
              " 'ox_e1_income_support',\n",
              " 'ox_e1_flag',\n",
              " 'ox_e2_debt_or_contract_relief',\n",
              " 'ox_e3_fiscal_measures',\n",
              " 'ox_e4_international_support',\n",
              " 'ox_h1_public_information_campaigns',\n",
              " 'ox_h1_flag',\n",
              " 'ox_h2_testing_policy',\n",
              " 'ox_h3_contact_tracing',\n",
              " 'ox_h4_emergency_investment_in_healthcare',\n",
              " 'ox_h5_investment_in_vaccines',\n",
              " 'ox_m1_wildcard',\n",
              " 'marioli_effective_reproduction_rate',\n",
              " 'yougov_fear_of_catching',\n",
              " 'yougov_avoiding_crowded_places',\n",
              " 'yougov_avoiding_going_to_work',\n",
              " 'yougov_stopping_sending_children',\n",
              " 'yougov_improving_personal_hygiene',\n",
              " 'yougov_refraining_from_touching_objects',\n",
              " 'yougov_avoiding_contact_with_tourists',\n",
              " 'google_mobility_change_grocery_and_pharmacy',\n",
              " 'google_mobility_change_parks',\n",
              " 'google_mobility_change_transit_stations',\n",
              " 'google_mobility_change_workplaces',\n",
              " 'sdsn_new_deaths_per_million_smoothed',\n",
              " 'sdsn_overall_transmission',\n",
              " 'Y']"
            ]
          },
          "metadata": {},
          "execution_count": 369
        }
      ]
    },
    {
      "cell_type": "code",
      "source": [
        "# hm i guess we need to drop the text columns\n",
        "# date, country_iso, country\n",
        "pd.set_option('display.max_rows', 100)\n"
      ],
      "metadata": {
        "id": "bS1r6EnS5nxz"
      },
      "execution_count": 332,
      "outputs": []
    },
    {
      "cell_type": "code",
      "source": [
        "X_train.dtypes"
      ],
      "metadata": {
        "colab": {
          "base_uri": "https://localhost:8080/"
        },
        "id": "mRk0rCTi9PKV",
        "outputId": "a5ae7588-e530-4ea4-ec40-689755c1799f"
      },
      "execution_count": 333,
      "outputs": [
        {
          "output_type": "execute_result",
          "data": {
            "text/plain": [
              "jhu_confirmed                                  float64\n",
              "owid_total_cases_per_million                   float64\n",
              "owid_new_cases_per_million                     float64\n",
              "owid_total_deaths_per_million                  float64\n",
              "owid_new_deaths_per_million                    float64\n",
              "owid_total_tests_per_thousand                  float64\n",
              "owid_tests_per_case                            float64\n",
              "owid_positive_rate                             float64\n",
              "owid_stringency_index                          float64\n",
              "owid_weekly_excess_mortality_p_score_0_14      float64\n",
              "owid_weekly_excess_mortality_p_score_15_64     float64\n",
              "owid_population_density                        float64\n",
              "owid_median_age                                float64\n",
              "owid_extreme_poverty                           float64\n",
              "owid_cardiovasc_death_rate                     float64\n",
              "owid_diabetes_prevalence                       float64\n",
              "owid_male_smokers                              float64\n",
              "owid_hospital_beds_per_thousand                float64\n",
              "ox_c1_flag                                     float64\n",
              "ox_c2_flag                                     float64\n",
              "ox_c3_flag                                     float64\n",
              "ox_c4_flag                                     float64\n",
              "ox_c6_flag                                     float64\n",
              "ox_c7_flag                                     float64\n",
              "ox_c8_international_travel_controls            float64\n",
              "ox_e1_income_support                           float64\n",
              "ox_e1_flag                                     float64\n",
              "ox_e2_debt_or_contract_relief                  float64\n",
              "ox_e3_fiscal_measures                          float64\n",
              "ox_e4_international_support                    float64\n",
              "ox_h1_public_information_campaigns             float64\n",
              "ox_h1_flag                                     float64\n",
              "ox_h2_testing_policy                           float64\n",
              "ox_h3_contact_tracing                          float64\n",
              "ox_h4_emergency_investment_in_healthcare       float64\n",
              "ox_h5_investment_in_vaccines                   float64\n",
              "ox_m1_wildcard                                 float64\n",
              "marioli_effective_reproduction_rate            float64\n",
              "yougov_fear_of_catching                        float64\n",
              "yougov_avoiding_crowded_places                 float64\n",
              "yougov_avoiding_going_to_work                  float64\n",
              "yougov_stopping_sending_children               float64\n",
              "yougov_improving_personal_hygiene              float64\n",
              "google_mobility_change_grocery_and_pharmacy    float64\n",
              "dtype: object"
            ]
          },
          "metadata": {},
          "execution_count": 333
        }
      ]
    },
    {
      "cell_type": "code",
      "source": [
        "# gbdt = HistGradientBoostingClassifier(categorical_features=[0,1,2])\n",
        "\n",
        "classifier =  HistGradientBoostingClassifier()\n",
        "classifier.fit(X_train,Y_train)"
      ],
      "metadata": {
        "colab": {
          "base_uri": "https://localhost:8080/"
        },
        "id": "7LHJHxbK4oXu",
        "outputId": "d8259b6b-de71-48d6-eaf7-ae6630cec815"
      },
      "execution_count": 370,
      "outputs": [
        {
          "output_type": "execute_result",
          "data": {
            "text/plain": [
              "HistGradientBoostingClassifier()"
            ]
          },
          "metadata": {},
          "execution_count": 370
        }
      ]
    },
    {
      "cell_type": "code",
      "source": [
        "classifier.get_params()"
      ],
      "metadata": {
        "colab": {
          "base_uri": "https://localhost:8080/"
        },
        "id": "_OXIPyMI-8xR",
        "outputId": "4ceb811b-cc89-4cfd-c450-fd687567f946"
      },
      "execution_count": 336,
      "outputs": [
        {
          "output_type": "execute_result",
          "data": {
            "text/plain": [
              "{'categorical_features': None,\n",
              " 'early_stopping': False,\n",
              " 'l2_regularization': 0.0,\n",
              " 'learning_rate': 0.1,\n",
              " 'loss': 'auto',\n",
              " 'max_bins': 255,\n",
              " 'max_depth': None,\n",
              " 'max_iter': 100,\n",
              " 'max_leaf_nodes': 31,\n",
              " 'min_samples_leaf': 20,\n",
              " 'monotonic_cst': None,\n",
              " 'n_iter_no_change': 10,\n",
              " 'random_state': None,\n",
              " 'scoring': 'loss',\n",
              " 'tol': 1e-07,\n",
              " 'validation_fraction': 0.1,\n",
              " 'verbose': 0,\n",
              " 'warm_start': False}"
            ]
          },
          "metadata": {},
          "execution_count": 336
        }
      ]
    },
    {
      "cell_type": "code",
      "source": [
        "# CVscores = cross_val_score(classifier, X_train, Y_train, scoring='roc_auc', cv=2) \n",
        "\n",
        "from sklearn.model_selection import cross_validate\n",
        "\n",
        "cv_results_gbdt = cross_validate(\n",
        "    classifier, X_train, Y_train, scoring=\"neg_mean_absolute_error\",\n",
        "    n_jobs=2\n",
        ")"
      ],
      "metadata": {
        "id": "JJ6Tdi2T4oiG"
      },
      "execution_count": 337,
      "outputs": []
    },
    {
      "cell_type": "code",
      "source": [
        "# param_grid={'n_estimators':[100,500], \n",
        "#             'learning_rate': [0.1,0.05,0.02,0.2],\n",
        "#             # 'max_depth':[4], \n",
        "#             # 'min_samples_leaf':[3], \n",
        "#             'max_features':[1.0] } "
      ],
      "metadata": {
        "id": "j4QKxVovEMsm"
      },
      "execution_count": 277,
      "outputs": []
    },
    {
      "cell_type": "code",
      "source": [],
      "metadata": {
        "id": "W0FVr9RWEMyB"
      },
      "execution_count": null,
      "outputs": []
    },
    {
      "cell_type": "code",
      "source": [
        "cv_results_gbdt"
      ],
      "metadata": {
        "colab": {
          "base_uri": "https://localhost:8080/"
        },
        "id": "YdWEN-4e4okt",
        "outputId": "62b0eeb7-7257-45e4-dd0f-1f39ee757059"
      },
      "execution_count": 338,
      "outputs": [
        {
          "output_type": "execute_result",
          "data": {
            "text/plain": [
              "{'fit_time': array([11.01447654, 11.07566476, 10.89361358, 10.57934475,  7.71518683]),\n",
              " 'score_time': array([0.40583777, 0.40666008, 0.39425874, 0.39546585, 0.26108408]),\n",
              " 'test_score': array([nan, nan, nan, nan, nan])}"
            ]
          },
          "metadata": {},
          "execution_count": 338
        }
      ]
    },
    {
      "cell_type": "code",
      "source": [
        "y_pred = classifier.predict(X_test)"
      ],
      "metadata": {
        "id": "aCepJZ-j4omw"
      },
      "execution_count": 371,
      "outputs": []
    },
    {
      "cell_type": "code",
      "source": [
        "y_pred"
      ],
      "metadata": {
        "colab": {
          "base_uri": "https://localhost:8080/"
        },
        "id": "u3CO0EVs4ool",
        "outputId": "33f25122-5c51-4abd-a5d8-461ec436f418"
      },
      "execution_count": 372,
      "outputs": [
        {
          "output_type": "execute_result",
          "data": {
            "text/plain": [
              "array(['C', 'C', 'C', ..., 'B', 'B', 'B'], dtype=object)"
            ]
          },
          "metadata": {},
          "execution_count": 372
        }
      ]
    },
    {
      "cell_type": "code",
      "source": [
        "print(\"Accuracy of the model is: %.3f\" % accuracy_score(y_pred, Y_test))"
      ],
      "metadata": {
        "colab": {
          "base_uri": "https://localhost:8080/"
        },
        "id": "qFIOCmg8AD6n",
        "outputId": "e6d199c7-88a8-481d-b4a8-5da7fa0ad9f7"
      },
      "execution_count": 373,
      "outputs": [
        {
          "output_type": "stream",
          "name": "stdout",
          "text": [
            "Accuracy of the model is: 0.660\n"
          ]
        }
      ]
    },
    {
      "cell_type": "code",
      "source": [
        "## Confusion Matrix for the predicted outputs\n",
        "conf_matrix = confusion_matrix(Y_test, y_pred)\n",
        "conf_matrix"
      ],
      "metadata": {
        "colab": {
          "base_uri": "https://localhost:8080/"
        },
        "id": "Iq9gGz8xAPHn",
        "outputId": "96da4936-4a5b-4e5e-986b-a7000e3b2656"
      },
      "execution_count": 374,
      "outputs": [
        {
          "output_type": "execute_result",
          "data": {
            "text/plain": [
              "array([[1065,  623,    0,    0],\n",
              "       [ 610,  918,  236,    0],\n",
              "       [   0,  703, 1859,  784],\n",
              "       [   0,    0,  234, 2359]])"
            ]
          },
          "metadata": {},
          "execution_count": 374
        }
      ]
    },
    {
      "cell_type": "code",
      "source": [
        "disp=ConfusionMatrixDisplay(confusion_matrix=conf_matrix, display_labels=classifier.classes_)\n",
        "disp.plot()\n",
        "plt.grid()\n",
        "plt.show()"
      ],
      "metadata": {
        "colab": {
          "base_uri": "https://localhost:8080/",
          "height": 580
        },
        "id": "yZ9Y1SVVASe6",
        "outputId": "5ba78278-97aa-4d8e-9aeb-252360b5e28f"
      },
      "execution_count": 375,
      "outputs": [
        {
          "output_type": "display_data",
          "data": {
            "text/plain": [
              "<Figure size 720x720 with 2 Axes>"
            ],
            "image/png": "[encoded data removed]"
          },
          "metadata": {}
        }
      ]
    },
    {
      "cell_type": "code",
      "source": [
        "confusion_matrix(Y_test, y_pred, normalize=\"true\").diagonal()"
      ],
      "metadata": {
        "colab": {
          "base_uri": "https://localhost:8080/"
        },
        "id": "qVdwsi4EA-Rd",
        "outputId": "0360c2f7-3df2-435b-9311-3c067f910b59"
      },
      "execution_count": 376,
      "outputs": [
        {
          "output_type": "execute_result",
          "data": {
            "text/plain": [
              "array([0.63092417, 0.52040816, 0.55558876, 0.90975704])"
            ]
          },
          "metadata": {},
          "execution_count": 376
        }
      ]
    },
    {
      "cell_type": "code",
      "source": [
        "report = classification_report(Y_test, y_pred)\n",
        "print('report:', report, sep='\\n')"
      ],
      "metadata": {
        "colab": {
          "base_uri": "https://localhost:8080/"
        },
        "id": "S_UcYmmRA-Tj",
        "outputId": "7c2b9823-ae09-458f-bea8-2ab7b38a9193"
      },
      "execution_count": 377,
      "outputs": [
        {
          "output_type": "stream",
          "name": "stdout",
          "text": [
            "report:\n",
            "              precision    recall  f1-score   support\n",
            "\n",
            "           A       0.64      0.63      0.63      1688\n",
            "           B       0.41      0.52      0.46      1764\n",
            "           C       0.80      0.56      0.66      3346\n",
            "           D       0.75      0.91      0.82      2593\n",
            "\n",
            "    accuracy                           0.66      9391\n",
            "   macro avg       0.65      0.65      0.64      9391\n",
            "weighted avg       0.68      0.66      0.66      9391\n",
            "\n"
          ]
        }
      ]
    }
  ]
}